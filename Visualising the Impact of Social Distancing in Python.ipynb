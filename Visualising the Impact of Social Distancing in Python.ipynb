{
 "cells": [
  {
   "cell_type": "markdown",
   "metadata": {},
   "source": [
    "# Modeling the flattening of the COVID-19 peaks\n",
    "\n",
    "\n",
    "_reference:https://towardsdatascience.com/covid19-visualising-the-impact-of-social-distancing-in-python-8567c14a3a73_"
   ]
  },
  {
   "cell_type": "code",
   "execution_count": 18,
   "metadata": {},
   "outputs": [],
   "source": [
    "import numpy as np\n",
    "import pandas as pd\n",
    "import matplotlib.pyplot as plt\n",
    "\n",
    "# Automatically plots\n",
    "%matplotlib inline\n",
    "# For Mac Retina Plots\n",
    "%config InlineBackend.figure_format ='retina'"
   ]
  },
  {
   "cell_type": "code",
   "execution_count": 19,
   "metadata": {},
   "outputs": [],
   "source": [
    "DAYS = 180; POPULATION = 100000; SPREAD_FACTOR = 4\n",
    "DAYS_TO_RECOVER = 10; INITIALLY_AFFECTED = 4"
   ]
  },
  {
   "cell_type": "code",
   "execution_count": null,
   "metadata": {},
   "outputs": [],
   "source": []
  },
  {
   "cell_type": "markdown",
   "metadata": {},
   "source": [
    "**Create a DataFrame called city, where each row corresponds to a person in the city. It also contains columns to mark when a person is infected and recovered.**"
   ]
  },
  {
   "cell_type": "code",
   "execution_count": 20,
   "metadata": {},
   "outputs": [
    {
     "name": "stdout",
     "output_type": "stream",
     "text": [
      "(100000, 3)\n",
      "    infected  recovered recovery_day\n",
      "id                                  \n",
      "0      False      False         None\n",
      "1      False      False         None\n",
      "2      False      False         None\n",
      "3      False      False         None\n",
      "4      False      False         None\n"
     ]
    }
   ],
   "source": [
    "city = pd.DataFrame(data = {'id': np.arange(POPULATION), 'infected': False, 'recovery_day': None, 'recovered': False}).set_index('id')\n",
    "\n",
    "print(city.shape)\n",
    "\n",
    "print(city.head())"
   ]
  },
  {
   "cell_type": "markdown",
   "metadata": {},
   "source": [
    "**Initially random INITIALLY_AFFECTED people, using sample and mark them as infected. Also mark their recovery day.**"
   ]
  },
  {
   "cell_type": "code",
   "execution_count": 21,
   "metadata": {},
   "outputs": [],
   "source": [
    "firstCases = city.sample(INITIALLY_AFFECTED, replace=False)\n",
    "city.loc[firstCases.index, 'infected'] = True\n",
    "city.loc[firstCases.index, 'recovery_day'] = DAYS_TO_RECOVER"
   ]
  },
  {
   "cell_type": "code",
   "execution_count": 22,
   "metadata": {},
   "outputs": [
    {
     "name": "stdout",
     "output_type": "stream",
     "text": [
      "[4]\n"
     ]
    }
   ],
   "source": [
    "stat_active_cases = [INITIALLY_AFFECTED]\n",
    "stat_recovered = [0]\n",
    "print(stat_active_cases)"
   ]
  },
  {
   "cell_type": "markdown",
   "metadata": {},
   "source": [
    "**Run a for loop DAYS times to simulate each passing day.**\n",
    "- Check the number of people who have recovered on this day, and mark them as recovered. These people won’t spread the virus anymore.\n",
    "\n",
    "- On each day, count the number of infected people, use the SPREAD_FACTOR to calculate the newly infected people on that day. So the number of new cases on a day = SPREAD_FACTOR * number of active cases.\n",
    "\n",
    "- Keep track of the number of active cases and people who recovered for visualising later."
   ]
  },
  {
   "cell_type": "code",
   "execution_count": 23,
   "metadata": {},
   "outputs": [
    {
     "data": {
      "text/plain": [
       "<BarContainer object of 180 artists>"
      ]
     },
     "execution_count": 23,
     "metadata": {},
     "output_type": "execute_result"
    },
    {
     "data": {
      "image/png": "[encoded data removed]",
      "text/plain": [
       "<Figure size 432x288 with 1 Axes>"
      ]
     },
     "metadata": {
      "image/png": {
       "height": 250,
       "width": 396
      },
      "needs_background": "light"
     },
     "output_type": "display_data"
    }
   ],
   "source": [
    "for today in range(1, DAYS):\n",
    "    # Mark people who have recovered today\n",
    "    city.loc[city['recovery_day'] == today, 'recovered'] = True\n",
    "    city.loc[city['recovery_day'] == today, 'infected'] = False\n",
    "    \n",
    "    # Calcuate the number of people who are infected today\n",
    "    spreadingPeople = city[ (city['infected'] == True)]\n",
    "    totalCasesToday = round(len(spreadingPeople) * SPREAD_FACTOR)\n",
    "    casesToday = city.sample(totalCasesToday, replace = True)\n",
    "    # Ignore people who were already infected in casesToday\n",
    "    casesToday = casesToday[ (casesToday['infected'] == False) & (casesToday['recovered'] == False) ]\n",
    "    # Mark the new cases as infected, and their recovery day\n",
    "    city.loc[casesToday.index, 'infected'] = True\n",
    "    city.loc[casesToday.index, 'recovery_day'] = today + DAYS_TO_RECOVER\n",
    "\n",
    "    stat_active_cases.append(len(city[city['infected'] == True]))\n",
    "\n",
    "plt.bar(x = np.arange(DAYS), height = stat_active_cases, color = \"red\")"
   ]
  },
  {
   "cell_type": "code",
   "execution_count": null,
   "metadata": {},
   "outputs": [],
   "source": []
  }
 ],
 "metadata": {
  "kernelspec": {
   "display_name": "Python 3",
   "language": "python",
   "name": "python3"
  },
  "language_info": {
   "codemirror_mode": {
    "name": "ipython",
    "version": 3
   },
   "file_extension": ".py",
   "mimetype": "text/x-python",
   "name": "python",
   "nbconvert_exporter": "python",
   "pygments_lexer": "ipython3",
   "version": "3.5.6"
  }
 },
 "nbformat": 4,
 "nbformat_minor": 2
}
